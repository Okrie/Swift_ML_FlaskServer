{
 "cells": [
  {
   "cell_type": "markdown",
   "metadata": {},
   "source": [
    "### Steam Game 추천 분석"
   ]
  },
  {
   "cell_type": "code",
   "execution_count": null,
   "metadata": {},
   "outputs": [],
   "source": [
    "import urllib.request as req\n",
    "import json"
   ]
  },
  {
   "cell_type": "code",
   "execution_count": null,
   "metadata": {},
   "outputs": [],
   "source": [
    "# all game URL\n",
    "allGameurl = \"http://api.steampowered.com/ISteamApps/GetAppList/v0002/?format=json\""
   ]
  },
  {
   "cell_type": "code",
   "execution_count": null,
   "metadata": {},
   "outputs": [],
   "source": [
    "# Game app id, name 받아오기\n",
    "response = req.urlopen(allGameurl)\n",
    "result = json.load(response)\n",
    "data = result['applist']['apps']\n",
    "len(data)"
   ]
  },
  {
   "cell_type": "code",
   "execution_count": null,
   "metadata": {},
   "outputs": [],
   "source": [
    "import pandas as pd"
   ]
  },
  {
   "cell_type": "code",
   "execution_count": null,
   "metadata": {},
   "outputs": [],
   "source": [
    "# dataframe으로 변경\n",
    "df = pd.DataFrame(data)\n",
    "df.head()"
   ]
  },
  {
   "cell_type": "code",
   "execution_count": null,
   "metadata": {},
   "outputs": [],
   "source": [
    "df.info()"
   ]
  },
  {
   "cell_type": "code",
   "execution_count": null,
   "metadata": {},
   "outputs": [],
   "source": [
    "df.appid = df.appid.astype('str')\n",
    "df.info()"
   ]
  },
  {
   "cell_type": "code",
   "execution_count": null,
   "metadata": {},
   "outputs": [],
   "source": [
    "# 공백이 및 일부 필요 없는 데이터 제거\n",
    "df = df[df.name != '']\n",
    "df2 = df[3:]\n",
    "df2.head()"
   ]
  },
  {
   "cell_type": "code",
   "execution_count": null,
   "metadata": {},
   "outputs": [],
   "source": [
    "df2 = df2.set_index('appid')"
   ]
  },
  {
   "cell_type": "code",
   "execution_count": null,
   "metadata": {},
   "outputs": [],
   "source": [
    "df2.head()"
   ]
  },
  {
   "cell_type": "markdown",
   "metadata": {},
   "source": [
    "### 게임 상세 정보를 받아 오기 위한 처리\n",
    "- url = https://store.steampowered.com/api/appdetails?appids=10&country=KR"
   ]
  },
  {
   "cell_type": "code",
   "execution_count": null,
   "metadata": {},
   "outputs": [],
   "source": [
    "# 정상 출력되는지 확인\n",
    "detailUrl = 'https://store.steampowered.com/api/appdetails?country=KR&appids=' + '2397400'\n",
    "response = req.urlopen(detailUrl)\n",
    "result = json.load(response)\n",
    "result['2397400']['data']"
   ]
  },
  {
   "cell_type": "code",
   "execution_count": null,
   "metadata": {},
   "outputs": [],
   "source": [
    "df2.to_csv('')"
   ]
  },
  {
   "cell_type": "code",
   "execution_count": null,
   "metadata": {},
   "outputs": [],
   "source": [
    "import time\n",
    "import random"
   ]
  },
  {
   "cell_type": "code",
   "execution_count": null,
   "metadata": {},
   "outputs": [],
   "source": [
    "detaildata = []\n",
    "\n",
    "for i in df2.index:\n",
    "    detailUrl = 'https://store.steampowered.com/api/appdetails?country=KR&appids=' + str(i)\n",
    "    time.sleep(random.())\n",
    "    response = req.urlopen(detailUrl)\n",
    "    result = json.load(response)\n",
    "    if result[str(i)]['success'] != False:\n",
    "        rdata = result[str(i)]['data']\n",
    "        detaildata.append(rdata)\n",
    "len(detaildata)"
   ]
  },
  {
   "cell_type": "code",
   "execution_count": null,
   "metadata": {},
   "outputs": [],
   "source": [
    "import json\n",
    "import urllib.request as req\n",
    "\n",
    "search = 3590\n",
    "response = req.urlopen(f'https://store.steampowered.com/api/appdetails?appids={search}')\n",
    "res = json.load(response)\n",
    "# detail_info = res['about_the_game']\n",
    "res[f'{search}']['data']"
   ]
  }
 ],
 "metadata": {
  "kernelspec": {
   "display_name": "RBase",
   "language": "python",
   "name": "python3"
  },
  "language_info": {
   "codemirror_mode": {
    "name": "ipython",
    "version": 3
   },
   "file_extension": ".py",
   "mimetype": "text/x-python",
   "name": "python",
   "nbconvert_exporter": "python",
   "pygments_lexer": "ipython3",
   "version": "3.10.9"
  },
  "orig_nbformat": 4
 },
 "nbformat": 4,
 "nbformat_minor": 2
}
