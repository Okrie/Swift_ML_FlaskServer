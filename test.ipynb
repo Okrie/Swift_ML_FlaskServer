{
 "cells": [
  {
   "cell_type": "markdown",
   "metadata": {},
   "source": [
    "### Steam Game 추천 분석"
   ]
  },
  {
   "cell_type": "code",
   "execution_count": 1,
   "metadata": {},
   "outputs": [],
   "source": [
    "import urllib.request as req\n",
    "import json"
   ]
  },
  {
   "cell_type": "code",
   "execution_count": 2,
   "metadata": {},
   "outputs": [],
   "source": [
    "# all game URL\n",
    "allGameurl = \"http://api.steampowered.com/ISteamApps/GetAppList/v0002/?format=json\""
   ]
  },
  {
   "cell_type": "code",
   "execution_count": 3,
   "metadata": {},
   "outputs": [
    {
     "data": {
      "text/plain": [
       "174618"
      ]
     },
     "execution_count": 3,
     "metadata": {},
     "output_type": "execute_result"
    }
   ],
   "source": [
    "# Game app id, name 받아오기\n",
    "response = req.urlopen(allGameurl)\n",
    "result = json.load(response)\n",
    "data = result['applist']['apps']\n",
    "len(data)"
   ]
  },
  {
   "cell_type": "code",
   "execution_count": 4,
   "metadata": {},
   "outputs": [],
   "source": [
    "import pandas as pd"
   ]
  },
  {
   "cell_type": "code",
   "execution_count": 5,
   "metadata": {},
   "outputs": [
    {
     "data": {
      "text/html": [
       "<div>\n",
       "<style scoped>\n",
       "    .dataframe tbody tr th:only-of-type {\n",
       "        vertical-align: middle;\n",
       "    }\n",
       "\n",
       "    .dataframe tbody tr th {\n",
       "        vertical-align: top;\n",
       "    }\n",
       "\n",
       "    .dataframe thead th {\n",
       "        text-align: right;\n",
       "    }\n",
       "</style>\n",
       "<table border=\"1\" class=\"dataframe\">\n",
       "  <thead>\n",
       "    <tr style=\"text-align: right;\">\n",
       "      <th></th>\n",
       "      <th>appid</th>\n",
       "      <th>name</th>\n",
       "    </tr>\n",
       "  </thead>\n",
       "  <tbody>\n",
       "    <tr>\n",
       "      <th>0</th>\n",
       "      <td>1941401</td>\n",
       "      <td></td>\n",
       "    </tr>\n",
       "    <tr>\n",
       "      <th>1</th>\n",
       "      <td>2170321</td>\n",
       "      <td></td>\n",
       "    </tr>\n",
       "    <tr>\n",
       "      <th>2</th>\n",
       "      <td>1825161</td>\n",
       "      <td></td>\n",
       "    </tr>\n",
       "    <tr>\n",
       "      <th>3</th>\n",
       "      <td>1897482</td>\n",
       "      <td></td>\n",
       "    </tr>\n",
       "    <tr>\n",
       "      <th>4</th>\n",
       "      <td>2112761</td>\n",
       "      <td></td>\n",
       "    </tr>\n",
       "  </tbody>\n",
       "</table>\n",
       "</div>"
      ],
      "text/plain": [
       "     appid name\n",
       "0  1941401     \n",
       "1  2170321     \n",
       "2  1825161     \n",
       "3  1897482     \n",
       "4  2112761     "
      ]
     },
     "execution_count": 5,
     "metadata": {},
     "output_type": "execute_result"
    }
   ],
   "source": [
    "# dataframe으로 변경\n",
    "df = pd.DataFrame(data)\n",
    "df.head()"
   ]
  },
  {
   "cell_type": "code",
   "execution_count": 6,
   "metadata": {},
   "outputs": [
    {
     "name": "stdout",
     "output_type": "stream",
     "text": [
      "<class 'pandas.core.frame.DataFrame'>\n",
      "RangeIndex: 174618 entries, 0 to 174617\n",
      "Data columns (total 2 columns):\n",
      " #   Column  Non-Null Count   Dtype \n",
      "---  ------  --------------   ----- \n",
      " 0   appid   174618 non-null  int64 \n",
      " 1   name    174618 non-null  object\n",
      "dtypes: int64(1), object(1)\n",
      "memory usage: 2.7+ MB\n"
     ]
    }
   ],
   "source": [
    "df.info()"
   ]
  },
  {
   "cell_type": "code",
   "execution_count": 7,
   "metadata": {},
   "outputs": [
    {
     "name": "stdout",
     "output_type": "stream",
     "text": [
      "<class 'pandas.core.frame.DataFrame'>\n",
      "RangeIndex: 174618 entries, 0 to 174617\n",
      "Data columns (total 2 columns):\n",
      " #   Column  Non-Null Count   Dtype \n",
      "---  ------  --------------   ----- \n",
      " 0   appid   174618 non-null  object\n",
      " 1   name    174618 non-null  object\n",
      "dtypes: object(2)\n",
      "memory usage: 2.7+ MB\n"
     ]
    }
   ],
   "source": [
    "df.appid = df.appid.astype('str')\n",
    "df.info()"
   ]
  },
  {
   "cell_type": "code",
   "execution_count": 13,
   "metadata": {},
   "outputs": [
    {
     "data": {
      "text/html": [
       "<div>\n",
       "<style scoped>\n",
       "    .dataframe tbody tr th:only-of-type {\n",
       "        vertical-align: middle;\n",
       "    }\n",
       "\n",
       "    .dataframe tbody tr th {\n",
       "        vertical-align: top;\n",
       "    }\n",
       "\n",
       "    .dataframe thead th {\n",
       "        text-align: right;\n",
       "    }\n",
       "</style>\n",
       "<table border=\"1\" class=\"dataframe\">\n",
       "  <thead>\n",
       "    <tr style=\"text-align: right;\">\n",
       "      <th></th>\n",
       "      <th>appid</th>\n",
       "      <th>name</th>\n",
       "    </tr>\n",
       "  </thead>\n",
       "  <tbody>\n",
       "    <tr>\n",
       "      <th>35</th>\n",
       "      <td>299010</td>\n",
       "      <td>Mana Crusher</td>\n",
       "    </tr>\n",
       "    <tr>\n",
       "      <th>36</th>\n",
       "      <td>299020</td>\n",
       "      <td>Runaway Express Mystery</td>\n",
       "    </tr>\n",
       "    <tr>\n",
       "      <th>37</th>\n",
       "      <td>299030</td>\n",
       "      <td>Blood: One Unit Whole Blood</td>\n",
       "    </tr>\n",
       "    <tr>\n",
       "      <th>38</th>\n",
       "      <td>299070</td>\n",
       "      <td>Warrior Kings: Battles</td>\n",
       "    </tr>\n",
       "    <tr>\n",
       "      <th>39</th>\n",
       "      <td>299080</td>\n",
       "      <td>the white chamber</td>\n",
       "    </tr>\n",
       "  </tbody>\n",
       "</table>\n",
       "</div>"
      ],
      "text/plain": [
       "     appid                         name\n",
       "35  299010                 Mana Crusher\n",
       "36  299020      Runaway Express Mystery\n",
       "37  299030  Blood: One Unit Whole Blood\n",
       "38  299070       Warrior Kings: Battles\n",
       "39  299080            the white chamber"
      ]
     },
     "execution_count": 13,
     "metadata": {},
     "output_type": "execute_result"
    }
   ],
   "source": [
    "# 공백이 및 일부 필요 없는 데이터 제거\n",
    "df = df[df.name != '']\n",
    "df2 = df[3:]\n",
    "df2.head()"
   ]
  },
  {
   "cell_type": "code",
   "execution_count": 15,
   "metadata": {},
   "outputs": [],
   "source": [
    "df2 = df2.set_index('appid')"
   ]
  },
  {
   "cell_type": "code",
   "execution_count": 16,
   "metadata": {},
   "outputs": [
    {
     "data": {
      "text/html": [
       "<div>\n",
       "<style scoped>\n",
       "    .dataframe tbody tr th:only-of-type {\n",
       "        vertical-align: middle;\n",
       "    }\n",
       "\n",
       "    .dataframe tbody tr th {\n",
       "        vertical-align: top;\n",
       "    }\n",
       "\n",
       "    .dataframe thead th {\n",
       "        text-align: right;\n",
       "    }\n",
       "</style>\n",
       "<table border=\"1\" class=\"dataframe\">\n",
       "  <thead>\n",
       "    <tr style=\"text-align: right;\">\n",
       "      <th></th>\n",
       "      <th>name</th>\n",
       "    </tr>\n",
       "    <tr>\n",
       "      <th>appid</th>\n",
       "      <th></th>\n",
       "    </tr>\n",
       "  </thead>\n",
       "  <tbody>\n",
       "    <tr>\n",
       "      <th>299010</th>\n",
       "      <td>Mana Crusher</td>\n",
       "    </tr>\n",
       "    <tr>\n",
       "      <th>299020</th>\n",
       "      <td>Runaway Express Mystery</td>\n",
       "    </tr>\n",
       "    <tr>\n",
       "      <th>299030</th>\n",
       "      <td>Blood: One Unit Whole Blood</td>\n",
       "    </tr>\n",
       "    <tr>\n",
       "      <th>299070</th>\n",
       "      <td>Warrior Kings: Battles</td>\n",
       "    </tr>\n",
       "    <tr>\n",
       "      <th>299080</th>\n",
       "      <td>the white chamber</td>\n",
       "    </tr>\n",
       "  </tbody>\n",
       "</table>\n",
       "</div>"
      ],
      "text/plain": [
       "                               name\n",
       "appid                              \n",
       "299010                 Mana Crusher\n",
       "299020      Runaway Express Mystery\n",
       "299030  Blood: One Unit Whole Blood\n",
       "299070       Warrior Kings: Battles\n",
       "299080            the white chamber"
      ]
     },
     "execution_count": 16,
     "metadata": {},
     "output_type": "execute_result"
    }
   ],
   "source": [
    "df2.head()"
   ]
  },
  {
   "cell_type": "markdown",
   "metadata": {},
   "source": [
    "### 게임 상세 정보를 받아 오기 위한 처리\n",
    "- url = https://store.steampowered.com/api/appdetails?appids=10&country=KR"
   ]
  },
  {
   "cell_type": "code",
   "execution_count": 11,
   "metadata": {},
   "outputs": [
    {
     "data": {
      "text/plain": [
       "{'type': 'game',\n",
       " 'name': 'Unnatural Season Two',\n",
       " 'steam_appid': 2397400,\n",
       " 'required_age': 0,\n",
       " 'is_free': False,\n",
       " 'detailed_description': 'Sometimes all you can do is delay the inevitable. A new organization has risen from the ashes of the Supernatural Response Team, and you are its leader. Take command and decide how it evolves. <br><br><i>Unnatural Season Two</i> is a 700,000 word interactive horror novel by Sam Kabell, where your choices control the story. It\\'s entirely text-based—without graphics or sound effects—and fueled by the vast, unstoppable power of your imagination.<br><br>Encounter Unnaturals both old and new. You’ve dealt with vampires, werewolves, and zombies before, but how will you handle new and previously unknown threats? How will you handle the awakening of once dormant Unnaturals, an ancient danger beyond anything anyone living has faced?<br>Reforge bonds with the surviving members of the SRT and make some new friends and allies, too. Interview and recruit up to four potential teammates: Avery Daye, a detective who specializes in missing persons related to Unnatural cases; Jennifer Maki, a former veterinarian trained to deal with animal-based Unnaturals; Cassandra Brown, a former member of the Boston Branch of the SRT—or have your actions in Season One set you up to recruit a mysterious returning companion? Import your Unnatural Season One save to find out!<br><br>As you move deeper into the Unnatural world, your journey continues to be shaped by it. Past is present as further investigation into your heritage brings new revelations to light. Evolve your power and learn more about the origins of the Azure, potentially discovering how their powers shape your own.<br><br>People look to you to protect the innocent from these intersections where the everyday and the supernatural collide. <br><br><ul class=\"bb_ul\"><li>Play as male, female or nonbinary; be straight, gay, bi or choose to focus on friendship instead.<br></li><li>Continue your romance with your paramour from Season One or pursue one of five new love interests.<br></li><li>Guide Silver Cross Incorporated to protect the innocent from foes human and Unnatural alike.<br></li><li>Manage your funding between four departments: research, security, technology, and training. The responsibility and consequences are yours.<br></li><li>Choose which cases you take on and who you bring with you—will you bring the best person for the job or will you bring someone you want to get to know better?<br></li><li>Utilize an updated threat level system to identify which cases your team takes on, maximizing their chances for both success and survival. <br></li><li>Focus on your powers, or rely on your technology. Not all cases need to end in violence; maybe you can talk your way out?<br></li><li></li></ul>Your time for following orders is done. In Unnatural Season Two, it is time for you to lead.',\n",
       " 'about_the_game': 'Sometimes all you can do is delay the inevitable. A new organization has risen from the ashes of the Supernatural Response Team, and you are its leader. Take command and decide how it evolves. <br><br><i>Unnatural Season Two</i> is a 700,000 word interactive horror novel by Sam Kabell, where your choices control the story. It\\'s entirely text-based—without graphics or sound effects—and fueled by the vast, unstoppable power of your imagination.<br><br>Encounter Unnaturals both old and new. You’ve dealt with vampires, werewolves, and zombies before, but how will you handle new and previously unknown threats? How will you handle the awakening of once dormant Unnaturals, an ancient danger beyond anything anyone living has faced?<br>Reforge bonds with the surviving members of the SRT and make some new friends and allies, too. Interview and recruit up to four potential teammates: Avery Daye, a detective who specializes in missing persons related to Unnatural cases; Jennifer Maki, a former veterinarian trained to deal with animal-based Unnaturals; Cassandra Brown, a former member of the Boston Branch of the SRT—or have your actions in Season One set you up to recruit a mysterious returning companion? Import your Unnatural Season One save to find out!<br><br>As you move deeper into the Unnatural world, your journey continues to be shaped by it. Past is present as further investigation into your heritage brings new revelations to light. Evolve your power and learn more about the origins of the Azure, potentially discovering how their powers shape your own.<br><br>People look to you to protect the innocent from these intersections where the everyday and the supernatural collide. <br><br><ul class=\"bb_ul\"><li>Play as male, female or nonbinary; be straight, gay, bi or choose to focus on friendship instead.<br></li><li>Continue your romance with your paramour from Season One or pursue one of five new love interests.<br></li><li>Guide Silver Cross Incorporated to protect the innocent from foes human and Unnatural alike.<br></li><li>Manage your funding between four departments: research, security, technology, and training. The responsibility and consequences are yours.<br></li><li>Choose which cases you take on and who you bring with you—will you bring the best person for the job or will you bring someone you want to get to know better?<br></li><li>Utilize an updated threat level system to identify which cases your team takes on, maximizing their chances for both success and survival. <br></li><li>Focus on your powers, or rely on your technology. Not all cases need to end in violence; maybe you can talk your way out?<br></li><li></li></ul>Your time for following orders is done. In Unnatural Season Two, it is time for you to lead.',\n",
       " 'short_description': 'Raise a new organization from the ashes of the SRT and guide Silver Cross Incorporated to protect the innocent from the darker side of humanity.',\n",
       " 'supported_languages': 'English',\n",
       " 'header_image': 'https://cdn.akamai.steamstatic.com/steam/apps/2397400/header.jpg?t=1683219450',\n",
       " 'capsule_image': 'https://cdn.akamai.steamstatic.com/steam/apps/2397400/capsule_231x87.jpg?t=1683219450',\n",
       " 'capsule_imagev5': 'https://cdn.akamai.steamstatic.com/steam/apps/2397400/capsule_184x69.jpg?t=1683219450',\n",
       " 'website': 'https://www.hostedgames.org',\n",
       " 'pc_requirements': {'minimum': '<strong>Minimum:</strong><br><ul class=\"bb_ul\"><li>Requires a 64-bit processor and operating system<br></li><li><strong>OS:</strong> 7</li></ul>',\n",
       "  'recommended': '<strong>Recommended:</strong><br><ul class=\"bb_ul\"><li>Requires a 64-bit processor and operating system</li></ul>'},\n",
       " 'mac_requirements': {'minimum': '<strong>Minimum:</strong><br><ul class=\"bb_ul\"><li>Requires a 64-bit processor and operating system<br></li><li><strong>OS:</strong> 10.13</li></ul>',\n",
       "  'recommended': '<strong>Recommended:</strong><br><ul class=\"bb_ul\"><li>Requires a 64-bit processor and operating system</li></ul>'},\n",
       " 'linux_requirements': {'minimum': '<strong>Minimum:</strong><br><ul class=\"bb_ul\"><li>Requires a 64-bit processor and operating system<br></li><li><strong>OS:</strong> Ubuntu 20.04</li></ul>',\n",
       "  'recommended': '<strong>Recommended:</strong><br><ul class=\"bb_ul\"><li>Requires a 64-bit processor and operating system</li></ul>'},\n",
       " 'developers': ['Hosted Games'],\n",
       " 'publishers': ['Hosted Games'],\n",
       " 'demos': [{'appid': 2397410, 'description': ''}],\n",
       " 'price_overview': {'currency': 'KRW',\n",
       "  'initial': 990000,\n",
       "  'final': 990000,\n",
       "  'discount_percent': 0,\n",
       "  'initial_formatted': '',\n",
       "  'final_formatted': '₩ 9,900'},\n",
       " 'packages': [862524],\n",
       " 'package_groups': [{'name': 'default',\n",
       "   'title': 'Buy Unnatural Season Two',\n",
       "   'description': '',\n",
       "   'selection_text': 'Select a purchase option',\n",
       "   'save_text': '',\n",
       "   'display_type': 0,\n",
       "   'is_recurring_subscription': 'false',\n",
       "   'subs': [{'packageid': 862524,\n",
       "     'percent_savings_text': ' ',\n",
       "     'percent_savings': 0,\n",
       "     'option_text': 'Unnatural Season 2 - ₩ 9,900',\n",
       "     'option_description': '',\n",
       "     'can_get_free_license': '0',\n",
       "     'is_free_license': False,\n",
       "     'price_in_cents_with_discount': 990000}]}],\n",
       " 'platforms': {'windows': True, 'mac': True, 'linux': True},\n",
       " 'categories': [{'id': 2, 'description': 'Single-player'},\n",
       "  {'id': 22, 'description': 'Steam Achievements'},\n",
       "  {'id': 23, 'description': 'Steam Cloud'}],\n",
       " 'genres': [{'id': '25', 'description': 'Adventure'},\n",
       "  {'id': '23', 'description': 'Indie'},\n",
       "  {'id': '3', 'description': 'RPG'}],\n",
       " 'screenshots': [{'id': 0,\n",
       "   'path_thumbnail': 'https://cdn.akamai.steamstatic.com/steam/apps/2397400/ss_a0cdb96c772754a9409d5e8713b4313e2662f579.600x338.jpg?t=1683219450',\n",
       "   'path_full': 'https://cdn.akamai.steamstatic.com/steam/apps/2397400/ss_a0cdb96c772754a9409d5e8713b4313e2662f579.1920x1080.jpg?t=1683219450'},\n",
       "  {'id': 1,\n",
       "   'path_thumbnail': 'https://cdn.akamai.steamstatic.com/steam/apps/2397400/ss_04df36c7f3eaf368be342d65a75fbe52d316f030.600x338.jpg?t=1683219450',\n",
       "   'path_full': 'https://cdn.akamai.steamstatic.com/steam/apps/2397400/ss_04df36c7f3eaf368be342d65a75fbe52d316f030.1920x1080.jpg?t=1683219450'},\n",
       "  {'id': 2,\n",
       "   'path_thumbnail': 'https://cdn.akamai.steamstatic.com/steam/apps/2397400/ss_02754174bbe821fe8e6dd6a350e15a85b4401b82.600x338.jpg?t=1683219450',\n",
       "   'path_full': 'https://cdn.akamai.steamstatic.com/steam/apps/2397400/ss_02754174bbe821fe8e6dd6a350e15a85b4401b82.1920x1080.jpg?t=1683219450'},\n",
       "  {'id': 3,\n",
       "   'path_thumbnail': 'https://cdn.akamai.steamstatic.com/steam/apps/2397400/ss_3cb341fda5c477cbbd74075f3dc2a0fb639a94c1.600x338.jpg?t=1683219450',\n",
       "   'path_full': 'https://cdn.akamai.steamstatic.com/steam/apps/2397400/ss_3cb341fda5c477cbbd74075f3dc2a0fb639a94c1.1920x1080.jpg?t=1683219450'},\n",
       "  {'id': 4,\n",
       "   'path_thumbnail': 'https://cdn.akamai.steamstatic.com/steam/apps/2397400/ss_6698d818e50ae9ac6347678a65d51e1e9f663242.600x338.jpg?t=1683219450',\n",
       "   'path_full': 'https://cdn.akamai.steamstatic.com/steam/apps/2397400/ss_6698d818e50ae9ac6347678a65d51e1e9f663242.1920x1080.jpg?t=1683219450'}],\n",
       " 'movies': [{'id': 256943015,\n",
       "   'name': 'trailer',\n",
       "   'thumbnail': 'https://cdn.akamai.steamstatic.com/steam/apps/256943015/movie.293x165.jpg?t=1682566101',\n",
       "   'webm': {'480': 'http://cdn.akamai.steamstatic.com/steam/apps/256943015/movie480_vp9.webm?t=1682566101',\n",
       "    'max': 'http://cdn.akamai.steamstatic.com/steam/apps/256943015/movie_max_vp9.webm?t=1682566101'},\n",
       "   'mp4': {'480': 'http://cdn.akamai.steamstatic.com/steam/apps/256943015/movie480.mp4?t=1682566101',\n",
       "    'max': 'http://cdn.akamai.steamstatic.com/steam/apps/256943015/movie_max.mp4?t=1682566101'},\n",
       "   'highlight': True}],\n",
       " 'achievements': {'total': 30,\n",
       "  'highlighted': [{'name': 'Blow your house down',\n",
       "    'path': 'https://cdn.akamai.steamstatic.com/steamcommunity/public/images/apps/2397400/c4964863770bc5af8719825d97236ce386824a8a.jpg'},\n",
       "   {'name': \"That's a nice red cloak\",\n",
       "    'path': 'https://cdn.akamai.steamstatic.com/steamcommunity/public/images/apps/2397400/c4964863770bc5af8719825d97236ce386824a8a.jpg'},\n",
       "   {'name': \"Don't disturb dead things\",\n",
       "    'path': 'https://cdn.akamai.steamstatic.com/steamcommunity/public/images/apps/2397400/c4964863770bc5af8719825d97236ce386824a8a.jpg'},\n",
       "   {'name': 'Mix up',\n",
       "    'path': 'https://cdn.akamai.steamstatic.com/steamcommunity/public/images/apps/2397400/c4964863770bc5af8719825d97236ce386824a8a.jpg'},\n",
       "   {'name': 'Remember me',\n",
       "    'path': 'https://cdn.akamai.steamstatic.com/steamcommunity/public/images/apps/2397400/c4964863770bc5af8719825d97236ce386824a8a.jpg'},\n",
       "   {'name': 'Escort mission',\n",
       "    'path': 'https://cdn.akamai.steamstatic.com/steamcommunity/public/images/apps/2397400/c4964863770bc5af8719825d97236ce386824a8a.jpg'},\n",
       "   {'name': 'Watch the shadows',\n",
       "    'path': 'https://cdn.akamai.steamstatic.com/steamcommunity/public/images/apps/2397400/c4964863770bc5af8719825d97236ce386824a8a.jpg'},\n",
       "   {'name': 'Sliding into your life',\n",
       "    'path': 'https://cdn.akamai.steamstatic.com/steamcommunity/public/images/apps/2397400/c4964863770bc5af8719825d97236ce386824a8a.jpg'},\n",
       "   {'name': 'Treaty me kindly',\n",
       "    'path': 'https://cdn.akamai.steamstatic.com/steamcommunity/public/images/apps/2397400/c4964863770bc5af8719825d97236ce386824a8a.jpg'},\n",
       "   {'name': \"I'm not dead yet\",\n",
       "    'path': 'https://cdn.akamai.steamstatic.com/steamcommunity/public/images/apps/2397400/c4964863770bc5af8719825d97236ce386824a8a.jpg'}]},\n",
       " 'release_date': {'coming_soon': False, 'date': '4 May, 2023'},\n",
       " 'support_info': {'url': 'https://www.hostedgames.org/contact-us/',\n",
       "  'email': 'support-unnatural2-steam@choiceofgames.com'},\n",
       " 'background': 'https://cdn.akamai.steamstatic.com/steam/apps/2397400/page_bg_generated_v6b.jpg?t=1683219450',\n",
       " 'background_raw': 'https://cdn.akamai.steamstatic.com/steam/apps/2397400/page_bg_generated.jpg?t=1683219450',\n",
       " 'content_descriptors': {'ids': [], 'notes': None}}"
      ]
     },
     "execution_count": 11,
     "metadata": {},
     "output_type": "execute_result"
    }
   ],
   "source": [
    "# 정상 출력되는지 확인\n",
    "detailUrl = 'https://store.steampowered.com/api/appdetails?country=KR&appids=' + '2397400'\n",
    "response = req.urlopen(detailUrl)\n",
    "result = json.load(response)\n",
    "result['2397400']['data']"
   ]
  },
  {
   "cell_type": "code",
   "execution_count": null,
   "metadata": {},
   "outputs": [],
   "source": [
    "df2.to_csv('')"
   ]
  },
  {
   "cell_type": "code",
   "execution_count": 22,
   "metadata": {},
   "outputs": [
    {
     "ename": "",
     "evalue": "",
     "output_type": "error",
     "traceback": [
      "\u001b[1;31m현재 셀 또는 이전 셀에서 코드를 실행하는 동안 Kernel이 충돌했습니다. 셀의 코드를 검토하여 오류의 가능한 원인을 식별하세요. 자세한 내용을 보려면 <a href='https://aka.ms/vscodeJupyterKernelCrash'> 여기 </a> 를 클릭하세요. 자세한 내용은 Jupyter <a href='command:jupyter.viewOutput'>로그</a>를 참조하세요."
     ]
    }
   ],
   "source": [
    "import time\n",
    "import random"
   ]
  },
  {
   "cell_type": "code",
   "execution_count": 21,
   "metadata": {},
   "outputs": [
    {
     "ename": "HTTPError",
     "evalue": "HTTP Error 429: Too Many Requests",
     "output_type": "error",
     "traceback": [
      "\u001b[1;31m---------------------------------------------------------------------------\u001b[0m",
      "\u001b[1;31mHTTPError\u001b[0m                                 Traceback (most recent call last)",
      "\u001b[1;32mc:\\Github\\Swift_Python_DX\\Python_Flask_Server\\test.ipynb 셀 15\u001b[0m line \u001b[0;36m6\n\u001b[0;32m      <a href='vscode-notebook-cell:/c%3A/Github/Swift_Python_DX/Python_Flask_Server/test.ipynb#X32sZmlsZQ%3D%3D?line=3'>4</a>\u001b[0m detailUrl \u001b[39m=\u001b[39m \u001b[39m'\u001b[39m\u001b[39mhttps://store.steampowered.com/api/appdetails?country=KR&appids=\u001b[39m\u001b[39m'\u001b[39m \u001b[39m+\u001b[39m \u001b[39mstr\u001b[39m(i)\n\u001b[0;32m      <a href='vscode-notebook-cell:/c%3A/Github/Swift_Python_DX/Python_Flask_Server/test.ipynb#X32sZmlsZQ%3D%3D?line=4'>5</a>\u001b[0m time\u001b[39m.\u001b[39msleep(random())\n\u001b[1;32m----> <a href='vscode-notebook-cell:/c%3A/Github/Swift_Python_DX/Python_Flask_Server/test.ipynb#X32sZmlsZQ%3D%3D?line=5'>6</a>\u001b[0m response \u001b[39m=\u001b[39m req\u001b[39m.\u001b[39;49murlopen(detailUrl)\n\u001b[0;32m      <a href='vscode-notebook-cell:/c%3A/Github/Swift_Python_DX/Python_Flask_Server/test.ipynb#X32sZmlsZQ%3D%3D?line=6'>7</a>\u001b[0m result \u001b[39m=\u001b[39m json\u001b[39m.\u001b[39mload(response)\n\u001b[0;32m      <a href='vscode-notebook-cell:/c%3A/Github/Swift_Python_DX/Python_Flask_Server/test.ipynb#X32sZmlsZQ%3D%3D?line=7'>8</a>\u001b[0m \u001b[39mif\u001b[39;00m result[\u001b[39mstr\u001b[39m(i)][\u001b[39m'\u001b[39m\u001b[39msuccess\u001b[39m\u001b[39m'\u001b[39m] \u001b[39m!=\u001b[39m \u001b[39mFalse\u001b[39;00m:\n",
      "File \u001b[1;32mc:\\Users\\HOME\\anaconda3\\lib\\urllib\\request.py:216\u001b[0m, in \u001b[0;36murlopen\u001b[1;34m(url, data, timeout, cafile, capath, cadefault, context)\u001b[0m\n\u001b[0;32m    214\u001b[0m \u001b[39melse\u001b[39;00m:\n\u001b[0;32m    215\u001b[0m     opener \u001b[39m=\u001b[39m _opener\n\u001b[1;32m--> 216\u001b[0m \u001b[39mreturn\u001b[39;00m opener\u001b[39m.\u001b[39;49mopen(url, data, timeout)\n",
      "File \u001b[1;32mc:\\Users\\HOME\\anaconda3\\lib\\urllib\\request.py:525\u001b[0m, in \u001b[0;36mOpenerDirector.open\u001b[1;34m(self, fullurl, data, timeout)\u001b[0m\n\u001b[0;32m    523\u001b[0m \u001b[39mfor\u001b[39;00m processor \u001b[39min\u001b[39;00m \u001b[39mself\u001b[39m\u001b[39m.\u001b[39mprocess_response\u001b[39m.\u001b[39mget(protocol, []):\n\u001b[0;32m    524\u001b[0m     meth \u001b[39m=\u001b[39m \u001b[39mgetattr\u001b[39m(processor, meth_name)\n\u001b[1;32m--> 525\u001b[0m     response \u001b[39m=\u001b[39m meth(req, response)\n\u001b[0;32m    527\u001b[0m \u001b[39mreturn\u001b[39;00m response\n",
      "File \u001b[1;32mc:\\Users\\HOME\\anaconda3\\lib\\urllib\\request.py:634\u001b[0m, in \u001b[0;36mHTTPErrorProcessor.http_response\u001b[1;34m(self, request, response)\u001b[0m\n\u001b[0;32m    631\u001b[0m \u001b[39m# According to RFC 2616, \"2xx\" code indicates that the client's\u001b[39;00m\n\u001b[0;32m    632\u001b[0m \u001b[39m# request was successfully received, understood, and accepted.\u001b[39;00m\n\u001b[0;32m    633\u001b[0m \u001b[39mif\u001b[39;00m \u001b[39mnot\u001b[39;00m (\u001b[39m200\u001b[39m \u001b[39m<\u001b[39m\u001b[39m=\u001b[39m code \u001b[39m<\u001b[39m \u001b[39m300\u001b[39m):\n\u001b[1;32m--> 634\u001b[0m     response \u001b[39m=\u001b[39m \u001b[39mself\u001b[39;49m\u001b[39m.\u001b[39;49mparent\u001b[39m.\u001b[39;49merror(\n\u001b[0;32m    635\u001b[0m         \u001b[39m'\u001b[39;49m\u001b[39mhttp\u001b[39;49m\u001b[39m'\u001b[39;49m, request, response, code, msg, hdrs)\n\u001b[0;32m    637\u001b[0m \u001b[39mreturn\u001b[39;00m response\n",
      "File \u001b[1;32mc:\\Users\\HOME\\anaconda3\\lib\\urllib\\request.py:563\u001b[0m, in \u001b[0;36mOpenerDirector.error\u001b[1;34m(self, proto, *args)\u001b[0m\n\u001b[0;32m    561\u001b[0m \u001b[39mif\u001b[39;00m http_err:\n\u001b[0;32m    562\u001b[0m     args \u001b[39m=\u001b[39m (\u001b[39mdict\u001b[39m, \u001b[39m'\u001b[39m\u001b[39mdefault\u001b[39m\u001b[39m'\u001b[39m, \u001b[39m'\u001b[39m\u001b[39mhttp_error_default\u001b[39m\u001b[39m'\u001b[39m) \u001b[39m+\u001b[39m orig_args\n\u001b[1;32m--> 563\u001b[0m     \u001b[39mreturn\u001b[39;00m \u001b[39mself\u001b[39;49m\u001b[39m.\u001b[39;49m_call_chain(\u001b[39m*\u001b[39;49margs)\n",
      "File \u001b[1;32mc:\\Users\\HOME\\anaconda3\\lib\\urllib\\request.py:496\u001b[0m, in \u001b[0;36mOpenerDirector._call_chain\u001b[1;34m(self, chain, kind, meth_name, *args)\u001b[0m\n\u001b[0;32m    494\u001b[0m \u001b[39mfor\u001b[39;00m handler \u001b[39min\u001b[39;00m handlers:\n\u001b[0;32m    495\u001b[0m     func \u001b[39m=\u001b[39m \u001b[39mgetattr\u001b[39m(handler, meth_name)\n\u001b[1;32m--> 496\u001b[0m     result \u001b[39m=\u001b[39m func(\u001b[39m*\u001b[39;49margs)\n\u001b[0;32m    497\u001b[0m     \u001b[39mif\u001b[39;00m result \u001b[39mis\u001b[39;00m \u001b[39mnot\u001b[39;00m \u001b[39mNone\u001b[39;00m:\n\u001b[0;32m    498\u001b[0m         \u001b[39mreturn\u001b[39;00m result\n",
      "File \u001b[1;32mc:\\Users\\HOME\\anaconda3\\lib\\urllib\\request.py:643\u001b[0m, in \u001b[0;36mHTTPDefaultErrorHandler.http_error_default\u001b[1;34m(self, req, fp, code, msg, hdrs)\u001b[0m\n\u001b[0;32m    642\u001b[0m \u001b[39mdef\u001b[39;00m \u001b[39mhttp_error_default\u001b[39m(\u001b[39mself\u001b[39m, req, fp, code, msg, hdrs):\n\u001b[1;32m--> 643\u001b[0m     \u001b[39mraise\u001b[39;00m HTTPError(req\u001b[39m.\u001b[39mfull_url, code, msg, hdrs, fp)\n",
      "\u001b[1;31mHTTPError\u001b[0m: HTTP Error 429: Too Many Requests"
     ]
    }
   ],
   "source": [
    "detaildata = []\n",
    "\n",
    "for i in df2.index:\n",
    "    detailUrl = 'https://store.steampowered.com/api/appdetails?country=KR&appids=' + str(i)\n",
    "    time.sleep(random.())\n",
    "    response = req.urlopen(detailUrl)\n",
    "    result = json.load(response)\n",
    "    if result[str(i)]['success'] != False:\n",
    "        rdata = result[str(i)]['data']\n",
    "        detaildata.append(rdata)\n",
    "len(detaildata)"
   ]
  },
  {
   "cell_type": "code",
   "execution_count": null,
   "metadata": {},
   "outputs": [],
   "source": []
  }
 ],
 "metadata": {
  "kernelspec": {
   "display_name": "RBase",
   "language": "python",
   "name": "python3"
  },
  "language_info": {
   "codemirror_mode": {
    "name": "ipython",
    "version": 3
   },
   "file_extension": ".py",
   "mimetype": "text/x-python",
   "name": "python",
   "nbconvert_exporter": "python",
   "pygments_lexer": "ipython3",
   "version": "3.10.9"
  },
  "orig_nbformat": 4
 },
 "nbformat": 4,
 "nbformat_minor": 2
}
